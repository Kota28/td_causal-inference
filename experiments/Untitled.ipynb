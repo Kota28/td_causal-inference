{
 "cells": [
  {
   "cell_type": "code",
   "execution_count": 190,
   "metadata": {},
   "outputs": [],
   "source": [
    "import sys, os\n",
    "import numpy as np\n",
    "import pandas as pd\n",
    "\n",
    "sys.path.append(os.path.join('..'))\n",
    "import original_lingam\n",
    "\n",
    "sys.path.append(os.path.join('..'))\n",
    "import proposed_lingam\n",
    "\n",
    "sys.path.append(os.path.join('..'))\n",
    "import false_lingam\n",
    "\n",
    "sys.path.append(os.path.join('..', 'sythetic_data'))\n",
    "import generate\n",
    "from generate import generate\n",
    "\n",
    "sys.path.append(os.path.join('..', 'related_methods'))\n",
    "import notears\n",
    "\n",
    "sys.path.append(os.path.join('..', 'related_methods'))\n",
    "import ges\n",
    "\n",
    "from supplement import criteria\n",
    "from supplement import threshold\n",
    "\n",
    "import random\n",
    "import scipy\n",
    "import networkx\n",
    "import seaborn as sns\n",
    "import matplotlib.pyplot as plt\n",
    "# import sempler_tool\n",
    "import supplement\n",
    "from sklearn.linear_model import LinearRegression\n",
    "\n",
    "np.set_printoptions(precision=3, suppress=True)\n",
    "# np.random.seed(2022)"
   ]
  },
  {
   "cell_type": "code",
   "execution_count": 191,
   "metadata": {},
   "outputs": [
    {
     "name": "stdout",
     "output_type": "stream",
     "text": [
      "Ground Truth:\n",
      "[[ 0 -3 -2]\n",
      " [ 0  0 -1]\n",
      " [ 0  0  0]]\n"
     ]
    }
   ],
   "source": [
    "X = generate(20, 3, 4)\n",
    "X = check_array(X[0])"
   ]
  },
  {
   "cell_type": "code",
   "execution_count": 192,
   "metadata": {},
   "outputs": [
    {
     "data": {
      "text/plain": [
       "array([[ 0.976, -2.923,  1.658],\n",
       "       [ 0.779, -2.14 ,  2.428],\n",
       "       [ 0.164,  0.106, -0.038],\n",
       "       [ 0.044,  0.824,  0.473],\n",
       "       [ 0.786, -1.493,  0.168],\n",
       "       [ 0.601, -1.634,  1.575],\n",
       "       [ 0.528, -0.646,  0.22 ],\n",
       "       [ 0.158,  0.071,  0.775],\n",
       "       [ 0.401, -0.555,  0.773],\n",
       "       [ 0.767, -2.123,  1.467],\n",
       "       [ 0.687, -1.806,  1.613],\n",
       "       [ 0.896, -2.324,  1.362],\n",
       "       [ 0.498, -1.311,  1.666],\n",
       "       [ 0.83 , -2.074,  1.723],\n",
       "       [ 0.331, -0.421,  1.465],\n",
       "       [ 0.596, -1.702,  1.354],\n",
       "       [ 0.733, -1.303,  0.956],\n",
       "       [ 0.065,  0.345,  0.269],\n",
       "       [ 0.364, -0.323, -0.246],\n",
       "       [ 0.684, -1.537,  1.585]])"
      ]
     },
     "execution_count": 192,
     "metadata": {},
     "output_type": "execute_result"
    }
   ],
   "source": [
    "X"
   ]
  },
  {
   "cell_type": "code",
   "execution_count": 193,
   "metadata": {},
   "outputs": [],
   "source": [
    "def multiple_residual(xi, xj):\n",
    "    \"\"\"The residual when xi is regressed on xj. xi = y, xj = x\"\"\"\n",
    "    model_lr = LinearRegression()\n",
    "    model_lr.fit(xj, xi)\n",
    "    res = np.array(xi - model_lr.predict(xj))\n",
    "    return res"
   ]
  },
  {
   "cell_type": "code",
   "execution_count": 194,
   "metadata": {},
   "outputs": [
    {
     "data": {
      "text/plain": [
       "array([-0.066,  0.034, -0.08 ,  0.059,  0.069, -0.054,  0.074, -0.035,\n",
       "        0.017, -0.045, -0.018,  0.014, -0.051,  0.052,  0.04 , -0.096,\n",
       "        0.133, -0.082, -0.027,  0.06 ])"
      ]
     },
     "execution_count": 194,
     "metadata": {},
     "output_type": "execute_result"
    }
   ],
   "source": [
    "multiple_residual(X[:, 0], X[:, [1, 2]])"
   ]
  },
  {
   "cell_type": "code",
   "execution_count": 44,
   "metadata": {},
   "outputs": [],
   "source": [
    "def residual(xi, xj):\n",
    "    return xi - (np.cov(xi, xj)[0, 1] / np.var(xj)) * xj"
   ]
  },
  {
   "cell_type": "code",
   "execution_count": 116,
   "metadata": {},
   "outputs": [],
   "source": [
    "d = 3\n",
    "def BF_res(d, m, X):\n",
    "    def residual(xi, xj):\n",
    "        return xi - (np.cov(xi, xj)[0, 1] / np.var(xj)) * xj\n",
    "#     res(d, 1, X) = residual(X[:, d-1], X[:, 0])\n",
    "    if m == 1:\n",
    "        return residual(X[:, d-1], X[:, 0]) \n",
    "    else:\n",
    "        return residual(BF_res(d, m-1, X), X[:, m-1])"
   ]
  },
  {
   "cell_type": "code",
   "execution_count": 127,
   "metadata": {},
   "outputs": [
    {
     "data": {
      "text/plain": [
       "array([0.741, 1.027, 0.966, 1.345, 1.325, 1.062, 0.739, 0.75 , 1.258,\n",
       "       0.546])"
      ]
     },
     "execution_count": 127,
     "metadata": {},
     "output_type": "execute_result"
    }
   ],
   "source": [
    "BF_res(3, 3, X)"
   ]
  },
  {
   "cell_type": "code",
   "execution_count": 118,
   "metadata": {},
   "outputs": [],
   "source": [
    "def MI(x1, x2, param = [2e-2, 1.0]):\n",
    "        \"\"\"Calculate the mutual informations.\"\"\"\n",
    "        kappa, sigma = param\n",
    "        n = len(x1)\n",
    "        X1 = np.tile(x1, (n, 1))\n",
    "        K1 = np.exp(-1/(2*sigma**2) * (X1**2 + X1.T**2 - 2*X1*X1.T))\n",
    "        X2 = np.tile(x2, (n, 1))\n",
    "        K2 = np.exp(-1/(2*sigma**2) * (X2**2 + X2.T**2 - 2*X2*X2.T))\n",
    "\n",
    "        tmp1 = K1 + n*kappa*np.identity(n)/2\n",
    "        tmp2 = K2 + n*kappa*np.identity(n)/2\n",
    "        K_kappa = np.r_[np.c_[tmp1 @ tmp1, K1 @ K2],\n",
    "                        np.c_[K2 @ K1, tmp2 @ tmp2]]\n",
    "        D_kappa = np.r_[np.c_[tmp1 @ tmp1, np.zeros([n, n])],\n",
    "                        np.c_[np.zeros([n, n]), tmp2 @ tmp2]]\n",
    "\n",
    "        sigma_K = np.linalg.svd(K_kappa, compute_uv=False)\n",
    "        sigma_D = np.linalg.svd(D_kappa, compute_uv=False)\n",
    "        return (-1/2)*(np.sum(np.log(sigma_K)) - np.sum(np.log(sigma_D)))"
   ]
  },
  {
   "cell_type": "code",
   "execution_count": 132,
   "metadata": {},
   "outputs": [],
   "source": [
    "def pre_loss(dimension, d_all, X):\n",
    "    param = [2e-2, 1.0]\n",
    "    ans = 0.0\n",
    "    if dimension == 1:\n",
    "        for i in range(2, d_all+1):\n",
    "            ans += MI(X[:, 0], BF_res(i, 1, X), param)\n",
    "    else:\n",
    "        for i in range(dimension+1, d_all+1):\n",
    "            ans += MI(BF_res(dimension, dimension-1, X), BF_res(i, dimension, X), param)\n",
    "    return ans"
   ]
  },
  {
   "cell_type": "code",
   "execution_count": 133,
   "metadata": {},
   "outputs": [],
   "source": [
    "def LOSS(d, X):\n",
    "    res = 0.0\n",
    "    for i in range(1, d):\n",
    "        res += pre_loss(i, d, X)\n",
    "    return res"
   ]
  },
  {
   "cell_type": "code",
   "execution_count": 134,
   "metadata": {},
   "outputs": [
    {
     "data": {
      "text/plain": [
       "4.724320739861547"
      ]
     },
     "execution_count": 134,
     "metadata": {},
     "output_type": "execute_result"
    }
   ],
   "source": [
    "LOSS(3, X)"
   ]
  },
  {
   "cell_type": "code",
   "execution_count": 141,
   "metadata": {},
   "outputs": [
    {
     "data": {
      "text/plain": [
       "4.642437657132771"
      ]
     },
     "execution_count": 141,
     "metadata": {},
     "output_type": "execute_result"
    }
   ],
   "source": [
    "LOSS(3, colchanged_X)"
   ]
  },
  {
   "cell_type": "code",
   "execution_count": 136,
   "metadata": {},
   "outputs": [
    {
     "data": {
      "text/plain": [
       "array([[ 0.507,  0.245, -0.773],\n",
       "       [ 0.749,  0.459, -1.445],\n",
       "       [ 0.367,  0.479, -0.557],\n",
       "       [ 0.72 ,  0.833, -1.691],\n",
       "       [ 0.236,  0.894, -0.552],\n",
       "       [ 0.43 ,  0.765, -1.191],\n",
       "       [ 0.35 ,  0.302, -0.475],\n",
       "       [ 0.157,  0.28 ,  0.105],\n",
       "       [ 0.841,  0.041, -0.458],\n",
       "       [ 0.583,  0.456, -1.716]])"
      ]
     },
     "execution_count": 136,
     "metadata": {},
     "output_type": "execute_result"
    }
   ],
   "source": [
    "X"
   ]
  },
  {
   "cell_type": "code",
   "execution_count": 142,
   "metadata": {},
   "outputs": [
    {
     "data": {
      "text/plain": [
       "3"
      ]
     },
     "execution_count": 142,
     "metadata": {},
     "output_type": "execute_result"
    }
   ],
   "source": [
    " X.shape[1]"
   ]
  },
  {
   "cell_type": "code",
   "execution_count": 140,
   "metadata": {},
   "outputs": [
    {
     "data": {
      "text/plain": [
       "array([[ 0.245,  0.507, -0.773],\n",
       "       [ 0.459,  0.749, -1.445],\n",
       "       [ 0.479,  0.367, -0.557],\n",
       "       [ 0.833,  0.72 , -1.691],\n",
       "       [ 0.894,  0.236, -0.552],\n",
       "       [ 0.765,  0.43 , -1.191],\n",
       "       [ 0.302,  0.35 , -0.475],\n",
       "       [ 0.28 ,  0.157,  0.105],\n",
       "       [ 0.041,  0.841, -0.458],\n",
       "       [ 0.456,  0.583, -1.716]])"
      ]
     },
     "execution_count": 140,
     "metadata": {},
     "output_type": "execute_result"
    }
   ],
   "source": [
    "colchanged_X"
   ]
  },
  {
   "cell_type": "code",
   "execution_count": null,
   "metadata": {},
   "outputs": [],
   "source": [
    "change_dict = list(itertools.permutations(arr))\n",
    "for i in range(len(change_dict)):\n",
    "    for j in range(len(change_dict[i])):\n",
    "        colchanged_X[:, j] = X[:, change_dict[i][j]]"
   ]
  },
  {
   "cell_type": "code",
   "execution_count": 122,
   "metadata": {},
   "outputs": [
    {
     "name": "stdout",
     "output_type": "stream",
     "text": [
      "Ground Truth:\n",
      "[[ 0  0 -2]\n",
      " [ 0  0 -2]\n",
      " [ 0  0  0]]\n"
     ]
    }
   ],
   "source": [
    "X = generate(10, 3, 342334)"
   ]
  },
  {
   "cell_type": "code",
   "execution_count": 123,
   "metadata": {},
   "outputs": [
    {
     "name": "stdout",
     "output_type": "stream",
     "text": [
      "[(0, 1, 2), (0, 2, 1), (1, 0, 2), (1, 2, 0), (2, 0, 1), (2, 1, 0)]\n"
     ]
    }
   ],
   "source": [
    "d = 3\n",
    "import itertools\n",
    "arr = [i for i in range(d)]\n",
    "print(list(itertools.permutations(arr)))"
   ]
  },
  {
   "cell_type": "code",
   "execution_count": 124,
   "metadata": {},
   "outputs": [
    {
     "name": "stdout",
     "output_type": "stream",
     "text": [
      "<class 'pandas.core.frame.DataFrame'>\n",
      "        x_0       x_1       x_2\n",
      "0  0.507478  0.245048 -0.772838\n",
      "1  0.748803  0.458598 -1.444755\n",
      "2  0.366864  0.478928 -0.556729\n",
      "3  0.720476  0.833200 -1.691240\n",
      "4  0.236079  0.894185 -0.552491\n",
      "5  0.430160  0.765291 -1.191042\n",
      "6  0.349565  0.302426 -0.474977\n",
      "7  0.157240  0.279715  0.105294\n",
      "8  0.840752  0.041361 -0.457780\n",
      "9  0.583285  0.456202 -1.716221\n"
     ]
    }
   ],
   "source": [
    "from sklearn.preprocessing import scale\n",
    "from sklearn.utils import check_array\n",
    "print(type(X[0]))\n",
    "print(X[0])\n",
    "X = check_array(X[0])"
   ]
  },
  {
   "cell_type": "code",
   "execution_count": 125,
   "metadata": {},
   "outputs": [],
   "source": [
    "colchanged_X = np.zeros((10, 3))"
   ]
  },
  {
   "cell_type": "code",
   "execution_count": 129,
   "metadata": {},
   "outputs": [
    {
     "data": {
      "text/plain": [
       "array([[ 0.507,  0.245, -0.773],\n",
       "       [ 0.749,  0.459, -1.445],\n",
       "       [ 0.367,  0.479, -0.557],\n",
       "       [ 0.72 ,  0.833, -1.691],\n",
       "       [ 0.236,  0.894, -0.552],\n",
       "       [ 0.43 ,  0.765, -1.191],\n",
       "       [ 0.35 ,  0.302, -0.475],\n",
       "       [ 0.157,  0.28 ,  0.105],\n",
       "       [ 0.841,  0.041, -0.458],\n",
       "       [ 0.583,  0.456, -1.716]])"
      ]
     },
     "execution_count": 129,
     "metadata": {},
     "output_type": "execute_result"
    }
   ],
   "source": [
    "X"
   ]
  },
  {
   "cell_type": "code",
   "execution_count": 138,
   "metadata": {},
   "outputs": [],
   "source": [
    "change_dict = list(itertools.permutations(arr))\n",
    "for j in range(len(change_dict[2])):\n",
    "    colchanged_X[:, j] = X[:, change_dict[2][j]]"
   ]
  },
  {
   "cell_type": "code",
   "execution_count": 139,
   "metadata": {},
   "outputs": [
    {
     "data": {
      "text/plain": [
       "array([[ 0.245,  0.507, -0.773],\n",
       "       [ 0.459,  0.749, -1.445],\n",
       "       [ 0.479,  0.367, -0.557],\n",
       "       [ 0.833,  0.72 , -1.691],\n",
       "       [ 0.894,  0.236, -0.552],\n",
       "       [ 0.765,  0.43 , -1.191],\n",
       "       [ 0.302,  0.35 , -0.475],\n",
       "       [ 0.28 ,  0.157,  0.105],\n",
       "       [ 0.041,  0.841, -0.458],\n",
       "       [ 0.456,  0.583, -1.716]])"
      ]
     },
     "execution_count": 139,
     "metadata": {},
     "output_type": "execute_result"
    }
   ],
   "source": [
    "colchanged_X"
   ]
  },
  {
   "cell_type": "code",
   "execution_count": 130,
   "metadata": {},
   "outputs": [
    {
     "data": {
      "text/plain": [
       "10"
      ]
     },
     "execution_count": 130,
     "metadata": {},
     "output_type": "execute_result"
    }
   ],
   "source": [
    "len(X)"
   ]
  },
  {
   "cell_type": "code",
   "execution_count": 174,
   "metadata": {},
   "outputs": [
    {
     "name": "stdout",
     "output_type": "stream",
     "text": [
      "Ground Truth:\n",
      "[[ 0  1 -1]\n",
      " [ 0  0  0]\n",
      " [ 0  0  0]]\n"
     ]
    }
   ],
   "source": [
    "X = generate(500, 3, 34233)\n",
    "X = check_array(X[0])"
   ]
  },
  {
   "cell_type": "code",
   "execution_count": 175,
   "metadata": {},
   "outputs": [
    {
     "data": {
      "text/plain": [
       "500"
      ]
     },
     "execution_count": 175,
     "metadata": {},
     "output_type": "execute_result"
    }
   ],
   "source": [
    "len(X)"
   ]
  },
  {
   "cell_type": "code",
   "execution_count": 178,
   "metadata": {},
   "outputs": [],
   "source": [
    "def search_causal_order_kernel(X):\n",
    "    \"\"\"Search the causal ordering by kernel method.\"\"\"\n",
    "#     if len(U) == 1:\n",
    "#         return U[0]\n",
    "    Tkernels = []\n",
    "    colchanged_X = np.zeros((len(X), X.shape[1]))\n",
    "    d = X.shape[1]\n",
    "    arr = [i for i in range(d)]\n",
    "    change_dict = list(itertools.permutations(arr))\n",
    "    print(change_dict)\n",
    "    for i in range(len(change_dict)):\n",
    "        for j in range(len(change_dict[i])):\n",
    "            colchanged_X[:, j] = X[:, change_dict[i][j]]\n",
    "        Tkernels.append(LOSS(d, colchanged_X))\n",
    "    print(Tkernels)\n",
    "    index = np.argmin(Tkernels)\n",
    "    return list(change_dict[index])"
   ]
  },
  {
   "cell_type": "code",
   "execution_count": 179,
   "metadata": {},
   "outputs": [
    {
     "name": "stdout",
     "output_type": "stream",
     "text": [
      "[(0, 1, 2), (0, 2, 1), (1, 0, 2), (1, 2, 0), (2, 0, 1), (2, 1, 0)]\n",
      "[4.582027502028268, 4.582358600762063, 4.47699093812048, 4.454065748929452, 4.492350634937793, 4.462065431749124]\n"
     ]
    },
    {
     "data": {
      "text/plain": [
       "[1, 2, 0]"
      ]
     },
     "execution_count": 179,
     "metadata": {},
     "output_type": "execute_result"
    }
   ],
   "source": [
    "list(search_causal_order_kernel(X))"
   ]
  },
  {
   "cell_type": "code",
   "execution_count": null,
   "metadata": {},
   "outputs": [],
   "source": []
  }
 ],
 "metadata": {
  "kernelspec": {
   "display_name": "Python 3 (ipykernel)",
   "language": "python",
   "name": "python3"
  },
  "language_info": {
   "codemirror_mode": {
    "name": "ipython",
    "version": 3
   },
   "file_extension": ".py",
   "mimetype": "text/x-python",
   "name": "python",
   "nbconvert_exporter": "python",
   "pygments_lexer": "ipython3",
   "version": "3.8.12"
  }
 },
 "nbformat": 4,
 "nbformat_minor": 2
}
